{
 "cells": [
  {
   "cell_type": "code",
   "execution_count": null,
   "metadata": {
    "id": "5w9QgE90l8B3"
   },
   "outputs": [],
   "source": []
  },
  {
   "cell_type": "markdown",
   "metadata": {
    "id": "2IfqJJOCEBJF"
   },
   "source": [
    "## Criando módulos em Python para um Sistema de Recomendação\n",
    "\n",
    "O objetivo aqui é organizar a base de código para obtermos a funcionalidade de recomendação."
   ]
  },
  {
   "cell_type": "code",
   "execution_count": null,
   "metadata": {
    "colab": {
     "base_uri": "https://localhost:8080/"
    },
    "id": "j7KlgN2rbxrc",
    "outputId": "2815ac06-5fd2-4a5a-f0eb-cd71820036d5"
   },
   "outputs": [
    {
     "name": "stdout",
     "output_type": "stream",
     "text": [
      "Writing data.py\n"
     ]
    }
   ],
   "source": [
    "%%writefile data.py\n",
    "import pandas as pd\n",
    "from sklearn.metrics.pairwise import cosine_similarity\n",
    "\n",
    "\n",
    "def get_data(path):\n",
    "  return pd.read_csv(path)\n",
    "\n",
    "\n",
    "def start_pipeline(dataf):\n",
    "  return dataf.copy()\n",
    "\n",
    "\n",
    "def get_book_counts(dataf):\n",
    "  return dataf.groupby(by='ISBN', as_index=False) \\\n",
    "    .agg({'User-ID': pd.Series.nunique}) \\\n",
    "    .rename(columns={'User-ID': 'User-ID_count'}) \\\n",
    "    .set_index('ISBN') \\\n",
    "    .sort_values('User-ID_count', ascending = False)\n",
    "\n",
    "\n",
    "def get_n_top_values(dataf, n):\n",
    "  return dataf.head(n) \\\n",
    "    .index \\\n",
    "    .tolist()\n",
    "\n",
    "\n",
    "def format_sample(dataf):\n",
    "  return pd.DataFrame({\n",
    "      \"user\": dataf[\"User-ID\"],\n",
    "      \"book\": dataf[\"ISBN\"],\n",
    "      \"action\": dataf[\"Book-Rating\"]\n",
    "  })\n",
    "\n",
    "\n",
    "def get_top_books_ids(dataf, sample_size=1000):\n",
    "  return dataf \\\n",
    "    .pipe(start_pipeline) \\\n",
    "    .pipe(get_book_counts) \\\n",
    "    .pipe(get_n_top_values, sample_size)\n",
    "\n",
    "\n",
    "def get_item_based_similarity_matrix(data):\n",
    "  top_book_ids = get_top_books_ids(data)\n",
    "  book_sampled_relationship_data = data[data[\"ISBN\"].isin(top_book_ids)] \\\n",
    "    .pipe(format_sample) \\\n",
    "    .pivot_table(index=\"user\", columns=\"book\", values=\"action\").fillna(0)\n",
    "  return cosine_similarity(book_sampled_relationship_data.T), book_sampled_relationship_data.T.index\n"
   ]
  },
  {
   "cell_type": "code",
   "execution_count": null,
   "metadata": {
    "colab": {
     "base_uri": "https://localhost:8080/"
    },
    "id": "IZ3CxMOV4DR8",
    "outputId": "9f79d172-a59b-48b7-83ec-e597253bc91e"
   },
   "outputs": [
    {
     "name": "stdout",
     "output_type": "stream",
     "text": [
      "Writing item_based_recommender.py\n"
     ]
    }
   ],
   "source": [
    "%%writefile item_based_recommender.py\n",
    "import random\n",
    "\n",
    "import numpy as np\n",
    "\n",
    "from data import get_data, get_item_based_similarity_matrix\n",
    "\n",
    "\n",
    "class ItemBasedRecommender:\n",
    "\n",
    "  def __init__(self, data_path):\n",
    "    self.data_path = data_path\n",
    "\n",
    "  def setup(self):\n",
    "    data = get_data(self.data_path)\n",
    "    sim_matrix, available_items_index = get_item_based_similarity_matrix(data)\n",
    "    self.available_items_index = available_items_index\n",
    "    self.sim_matrix = sim_matrix\n",
    "\n",
    "  def get_random_item_index(self):\n",
    "    item_id = self.available_items_index[random.randint(0, self.sim_matrix.shape[0])]\n",
    "    return item_id\n",
    "\n",
    "  def get_n_closest(self, item_id, n=10):\n",
    "    if item_id not in self.available_items_index:\n",
    "      raise ValueError('Item is not available on data.')\n",
    "    item_index = self.available_items_index.tolist().index(item_id)\n",
    "    closest_n_iten = np.argsort(-self.sim_matrix[item_index])[1:n]\n",
    "    n_closest = []\n",
    "    for item_data in zip(self.available_items_index[closest_n_iten], self.sim_matrix[item_index][closest_n_iten]):\n",
    "      n_closest.append(item_data)\n",
    "    return tuple(n_closest)"
   ]
  },
  {
   "cell_type": "markdown",
   "metadata": {
    "id": "19HUROwV_k8V"
   },
   "source": [
    "## Setup do Sistema de Recomendação"
   ]
  },
  {
   "cell_type": "code",
   "execution_count": null,
   "metadata": {
    "colab": {
     "base_uri": "https://localhost:8080/"
    },
    "id": "AdTIAQgh_33k",
    "outputId": "80fb24b4-0adc-4529-b308-4f2b02dabf61"
   },
   "outputs": [
    {
     "name": "stdout",
     "output_type": "stream",
     "text": [
      "env: KAGGLE_USERNAME=ricoms\n",
      "env: KAGGLE_KEY=8bd3a4b719368399d9965b8cdf83f8d9\n",
      "Downloading book-recommendation-dataset.zip to /content/book-recommendation-dataset\n",
      " 38% 9.00M/23.8M [00:00<00:00, 23.0MB/s]\n",
      "100% 23.8M/23.8M [00:00<00:00, 48.4MB/s]\n",
      "Books.csv  Ratings.csv\tUsers.csv\n"
     ]
    }
   ],
   "source": [
    "%env KAGGLE_USERNAME=ricoms\n",
    "%env KAGGLE_KEY=8bd3a4b719368399d9965b8cdf83f8d9\n",
    "\n",
    "!kaggle datasets download -d arashnic/book-recommendation-dataset --unzip -p /content/book-recommendation-dataset\n",
    "!ls /content/book-recommendation-dataset"
   ]
  },
  {
   "cell_type": "code",
   "execution_count": null,
   "metadata": {
    "id": "Cefcvu6E_lUw"
   },
   "outputs": [],
   "source": [
    "from pathlib import Path\n",
    "\n",
    "from item_based_recommender import ItemBasedRecommender\n",
    "\n",
    "DATA_PATH = Path(\"/content/book-recommendation-dataset\")\n",
    "\n",
    "ratings_df_path = DATA_PATH / 'Ratings.csv'\n",
    "\n",
    "item_recommender = ItemBasedRecommender(ratings_df_path)\n",
    "\n",
    "item_recommender.setup()"
   ]
  },
  {
   "cell_type": "markdown",
   "metadata": {
    "id": "ozreeonr_TYE"
   },
   "source": [
    "## Usuário do Sistema de Recomendação\n"
   ]
  },
  {
   "cell_type": "code",
   "execution_count": null,
   "metadata": {
    "colab": {
     "base_uri": "https://localhost:8080/"
    },
    "id": "yVn7gxjN_TJU",
    "outputId": "fd0497f2-933b-4068-bb93-79b2edba46c9"
   },
   "outputs": [
    {
     "data": {
      "text/plain": [
       "(('0671004549', 0.1809031859927611),\n",
       " ('0440200989', 0.17667998827911666),\n",
       " ('0671888587', 0.16220220780328537),\n",
       " ('0671867172', 0.1580539855861806),\n",
       " ('0671793489', 0.1468981632092825),\n",
       " ('0671014919', 0.13109387654292504),\n",
       " ('0671867091', 0.1298307241434932),\n",
       " ('0743460529', 0.1258442116639573),\n",
       " ('0671701231', 0.12575068228674863))"
      ]
     },
     "execution_count": 6,
     "metadata": {
      "tags": []
     },
     "output_type": "execute_result"
    }
   ],
   "source": [
    "some_item_id = item_recommender.get_random_item_index()\n",
    "\n",
    "\n",
    "\n",
    "item_recommender.get_n_closest(some_item_id)"
   ]
  },
  {
   "cell_type": "code",
   "execution_count": null,
   "metadata": {
    "colab": {
     "base_uri": "https://localhost:8080/",
     "height": 282
    },
    "id": "7UhLkTAd_S_z",
    "outputId": "81694c7e-4165-4cfe-805b-b0aaf10644ec"
   },
   "outputs": [
    {
     "ename": "ValueError",
     "evalue": "ignored",
     "output_type": "error",
     "traceback": [
      "\u001b[0;31m---------------------------------------------------------------------------\u001b[0m",
      "\u001b[0;31mValueError\u001b[0m                                Traceback (most recent call last)",
      "\u001b[0;32m<ipython-input-7-7aa97b01d0f0>\u001b[0m in \u001b[0;36m<module>\u001b[0;34m()\u001b[0m\n\u001b[0;32m----> 1\u001b[0;31m \u001b[0mitem_recommender\u001b[0m\u001b[0;34m.\u001b[0m\u001b[0mget_n_closest\u001b[0m\u001b[0;34m(\u001b[0m\u001b[0;34m'BOOK_ID_Q_NAO_EXISTE'\u001b[0m\u001b[0;34m)\u001b[0m\u001b[0;34m\u001b[0m\u001b[0;34m\u001b[0m\u001b[0m\n\u001b[0m",
      "\u001b[0;32m/content/item_based_recommender.py\u001b[0m in \u001b[0;36mget_n_closest\u001b[0;34m(self, item_id, n)\u001b[0m\n\u001b[1;32m     23\u001b[0m   \u001b[0;32mdef\u001b[0m \u001b[0mget_n_closest\u001b[0m\u001b[0;34m(\u001b[0m\u001b[0mself\u001b[0m\u001b[0;34m,\u001b[0m \u001b[0mitem_id\u001b[0m\u001b[0;34m,\u001b[0m \u001b[0mn\u001b[0m\u001b[0;34m=\u001b[0m\u001b[0;36m10\u001b[0m\u001b[0;34m)\u001b[0m\u001b[0;34m:\u001b[0m\u001b[0;34m\u001b[0m\u001b[0;34m\u001b[0m\u001b[0m\n\u001b[1;32m     24\u001b[0m     \u001b[0;32mif\u001b[0m \u001b[0mitem_id\u001b[0m \u001b[0;32mnot\u001b[0m \u001b[0;32min\u001b[0m \u001b[0mself\u001b[0m\u001b[0;34m.\u001b[0m\u001b[0mavailable_items_index\u001b[0m\u001b[0;34m:\u001b[0m\u001b[0;34m\u001b[0m\u001b[0;34m\u001b[0m\u001b[0m\n\u001b[0;32m---> 25\u001b[0;31m       \u001b[0;32mraise\u001b[0m \u001b[0mValueError\u001b[0m\u001b[0;34m(\u001b[0m\u001b[0;34m'Item is not available on data.'\u001b[0m\u001b[0;34m)\u001b[0m\u001b[0;34m\u001b[0m\u001b[0;34m\u001b[0m\u001b[0m\n\u001b[0m\u001b[1;32m     26\u001b[0m     \u001b[0mitem_index\u001b[0m \u001b[0;34m=\u001b[0m \u001b[0mself\u001b[0m\u001b[0;34m.\u001b[0m\u001b[0mavailable_items_index\u001b[0m\u001b[0;34m.\u001b[0m\u001b[0mtolist\u001b[0m\u001b[0;34m(\u001b[0m\u001b[0;34m)\u001b[0m\u001b[0;34m.\u001b[0m\u001b[0mindex\u001b[0m\u001b[0;34m(\u001b[0m\u001b[0mitem_id\u001b[0m\u001b[0;34m)\u001b[0m\u001b[0;34m\u001b[0m\u001b[0;34m\u001b[0m\u001b[0m\n\u001b[1;32m     27\u001b[0m     \u001b[0mclosest_n_iten\u001b[0m \u001b[0;34m=\u001b[0m \u001b[0mnp\u001b[0m\u001b[0;34m.\u001b[0m\u001b[0margsort\u001b[0m\u001b[0;34m(\u001b[0m\u001b[0;34m-\u001b[0m\u001b[0mself\u001b[0m\u001b[0;34m.\u001b[0m\u001b[0msim_matrix\u001b[0m\u001b[0;34m[\u001b[0m\u001b[0mitem_index\u001b[0m\u001b[0;34m]\u001b[0m\u001b[0;34m)\u001b[0m\u001b[0;34m[\u001b[0m\u001b[0;36m1\u001b[0m\u001b[0;34m:\u001b[0m\u001b[0mn\u001b[0m\u001b[0;34m]\u001b[0m\u001b[0;34m\u001b[0m\u001b[0;34m\u001b[0m\u001b[0m\n",
      "\u001b[0;31mValueError\u001b[0m: Item is not available on data."
     ]
    }
   ],
   "source": [
    "item_recommender.get_n_closest('BOOK_ID_Q_NAO_EXISTE')"
   ]
  }
 ],
 "metadata": {
  "colab": {
   "collapsed_sections": [],
   "name": "Revisão - Sistemas de Recomendação (Original)",
   "provenance": []
  },
  "kernelspec": {
   "display_name": "Python 3",
   "language": "python",
   "name": "python3"
  },
  "language_info": {
   "codemirror_mode": {
    "name": "ipython",
    "version": 3
   },
   "file_extension": ".py",
   "mimetype": "text/x-python",
   "name": "python",
   "nbconvert_exporter": "python",
   "pygments_lexer": "ipython3",
   "version": "3.9.1"
  }
 },
 "nbformat": 4,
 "nbformat_minor": 1
}
